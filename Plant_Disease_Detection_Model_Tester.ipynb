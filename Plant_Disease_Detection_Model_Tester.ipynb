{
 "cells": [
  {
   "cell_type": "code",
   "execution_count": 2,
   "id": "986ad9fd",
   "metadata": {},
   "outputs": [],
   "source": [
    "from fastai import *\n",
    "from fastai.vision import *\n",
    "from fastai.imports import *\n",
    "from fastai.vision.all import *\n",
    "from fastai.metrics import error_rate, accuracy\n",
    "import cv2 "
   ]
  },
  {
   "cell_type": "code",
   "execution_count": 3,
   "id": "26629fb2",
   "metadata": {},
   "outputs": [],
   "source": [
    "import pathlib\n",
    "temp = pathlib.PosixPath\n",
    "pathlib.PosixPath = pathlib.WindowsPath"
   ]
  },
  {
   "cell_type": "code",
   "execution_count": 4,
   "id": "00249410",
   "metadata": {},
   "outputs": [],
   "source": [
    "export_file_path = './models/export.pkl'\n",
    "\n",
    "classes = ['Apple___Apple_scab','Apple___Black_rot','Apple___Cedar_apple_rust','Apple___healthy','Blueberry___healthy',\n",
    "           'Cherry_(including_sour)___Powdery_mildew','Cherry_(including_sour)___healthy',\n",
    "           'Corn_(maize)___Cercospora_leaf_spot Gray_leaf_spot','Corn_(maize)___Common_rust_',\n",
    "           'Corn_(maize)___Northern_Leaf_Blight','Corn_(maize)___healthy','Grape___Black_rot',\n",
    "           'Grape___Esca_(Black_Measles)',\n",
    "           'Grape___Leaf_blight_(Isariopsis_Leaf_Spot)','Grape___healthy','Orange___Haunglongbing_(Citrus_greening)',\n",
    "           'Peach___Bacterial_spot','Peach___healthy','Pepper,_bell___Bacterial_spot','Pepper,_bell___healthy',\n",
    "           'Potato___Early_blight','Potato___Late_blight','Potato___healthy','Raspberry___healthy','Soybean___healthy',\n",
    "           'Squash___Powdery_mildew','Strawberry___Leaf_scorch','Strawberry___healthy','Tomato___Bacterial_spot',\n",
    "           'Tomato___Early_blight','Tomato___Late_blight','Tomato___Leaf_Mold','Tomato___Septoria_leaf_spot',\n",
    "           'Tomato___Spider_mites Two-spotted_spider_mite','Tomato___Target_Spot',\n",
    "           'Tomato___Tomato_Yellow_Leaf_Curl_Virus','Tomato___Tomato_mosaic_virus','Tomato___healthy','background']"
   ]
  },
  {
   "cell_type": "code",
   "execution_count": 5,
   "id": "dba65268",
   "metadata": {},
   "outputs": [],
   "source": [
    "img_path = \"./Plant_leave_diseases_dataset_with_augmentation/Corn___Northern_Leaf_Blight/image (107).JPG\"\n",
    "img = cv2.imread(img_path)\n",
    "\n",
    "model = load_learner(export_file_path, 'export.pkl')\n",
    "prediction = model.predict(img)[0]"
   ]
  },
  {
   "cell_type": "code",
   "execution_count": 6,
   "id": "9f59a564",
   "metadata": {},
   "outputs": [
    {
     "data": {
      "text/plain": [
       "'Corn___Northern_Leaf_Blight'"
      ]
     },
     "execution_count": 6,
     "metadata": {},
     "output_type": "execute_result"
    }
   ],
   "source": [
    "prediction"
   ]
  }
 ],
 "metadata": {
  "kernelspec": {
   "display_name": "Python 3 (ipykernel)",
   "language": "python",
   "name": "python3"
  },
  "language_info": {
   "codemirror_mode": {
    "name": "ipython",
    "version": 3
   },
   "file_extension": ".py",
   "mimetype": "text/x-python",
   "name": "python",
   "nbconvert_exporter": "python",
   "pygments_lexer": "ipython3",
   "version": "3.8.8"
  }
 },
 "nbformat": 4,
 "nbformat_minor": 5
}
