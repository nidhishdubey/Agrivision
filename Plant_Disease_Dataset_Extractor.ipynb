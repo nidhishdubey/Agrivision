{
 "cells": [
  {
   "cell_type": "code",
   "execution_count": 6,
   "metadata": {},
   "outputs": [],
   "source": [
    "import os\n",
    "import numpy as np\n",
    "import matplotlib.pyplot as plt\n",
    "from fastai.vision import *\n",
    "from fastai.metrics import error_rate,accuracy"
   ]
  },
  {
   "cell_type": "code",
   "execution_count": 7,
   "metadata": {},
   "outputs": [],
   "source": [
    "path = os.getcwd()"
   ]
  },
  {
   "cell_type": "code",
   "execution_count": 11,
   "metadata": {},
   "outputs": [
    {
     "data": {
      "text/plain": [
       "'./data\\\\Plant_leaf_diseases_dataset_with_augmentation.zip'"
      ]
     },
     "execution_count": 11,
     "metadata": {},
     "output_type": "execute_result"
    }
   ],
   "source": [
    "import shutil\n",
    "shutil.copy('./Plant_leaf_diseases_dataset_with_augmentation.zip','./data')"
   ]
  },
  {
   "cell_type": "code",
   "execution_count": 15,
   "metadata": {},
   "outputs": [
    {
     "name": "stdout",
     "output_type": "stream",
     "text": [
      "Archive file unpacked successfully.\n"
     ]
    }
   ],
   "source": [
    "# Full path of the zip file\n",
    "filename = \"./data/Plant_leaf_diseases_dataset_with_augmentation.zip\"\n",
    " \n",
    "# Target directory\n",
    "extract_dir = \"./data\"\n",
    " \n",
    "# Format of archive file\n",
    "archive_format = \"zip\"\n",
    " \n",
    "# Unpack the archive file\n",
    "shutil.unpack_archive(filename, extract_dir, archive_format)\n",
    "print(\"Archive file unpacked successfully.\")"
   ]
  },
  {
   "cell_type": "code",
   "execution_count": 18,
   "metadata": {},
   "outputs": [
    {
     "name": "stdout",
     "output_type": "stream",
     "text": [
      "Dataset spliting in Train, Validation, and Test set is successfully done!\n"
     ]
    }
   ],
   "source": [
    "import os\n",
    "import shutil\n",
    "import random\n",
    "\n",
    "# Define directories\n",
    "source_dir = \"./data/Plant_leaf_diseases_dataset_with_augmentation\"\n",
    "train_dir = \"./data/train\"\n",
    "val_dir = \"./data/val\"\n",
    "test_dir = \"./data/test\"\n",
    "\n",
    "# Define percentages for train, validation, and test sets\n",
    "train_percent = 0.7\n",
    "val_percent = 0.2\n",
    "test_percent = 0.1\n",
    "\n",
    "# Create directories if they don't exist\n",
    "if not os.path.exists(train_dir):\n",
    "    os.makedirs(train_dir)\n",
    "if not os.path.exists(val_dir):\n",
    "    os.makedirs(val_dir)\n",
    "if not os.path.exists(test_dir):\n",
    "    os.makedirs(test_dir)\n",
    "\n",
    "# Loop through each folder in the source directory\n",
    "for folder in os.listdir(source_dir):\n",
    "    folder_path = os.path.join(source_dir, folder)\n",
    "    if os.path.isdir(folder_path):\n",
    "        # Create subdirectories in train, validation, and test sets\n",
    "        train_subdir = os.path.join(train_dir, folder)\n",
    "        val_subdir = os.path.join(val_dir, folder)\n",
    "        test_subdir = os.path.join(test_dir, folder)\n",
    "        if not os.path.exists(train_subdir):\n",
    "            os.makedirs(train_subdir)\n",
    "        if not os.path.exists(val_subdir):\n",
    "            os.makedirs(val_subdir)\n",
    "        if not os.path.exists(test_subdir):\n",
    "            os.makedirs(test_subdir)\n",
    "        \n",
    "        # Loop through each image in the folder\n",
    "        for file in os.listdir(folder_path):\n",
    "            file_path = os.path.join(folder_path, file)\n",
    "            # Randomly assign image to train, validation, or test set\n",
    "            rand_num = random.random()\n",
    "            if rand_num < train_percent:\n",
    "                shutil.copy(file_path, os.path.join(train_subdir, file))\n",
    "            elif rand_num < train_percent + val_percent:\n",
    "                shutil.copy(file_path, os.path.join(val_subdir, file))\n",
    "            else:\n",
    "                shutil.copy(file_path, os.path.join(test_subdir, file))\n",
    "\n",
    "\n",
    "print(\"Dataset spliting in Train, Validation, and Test set is successfully done!\")"
   ]
  }
 ],
 "metadata": {
  "kernelspec": {
   "display_name": "Python 3 (ipykernel)",
   "language": "python",
   "name": "python3"
  },
  "language_info": {
   "codemirror_mode": {
    "name": "ipython",
    "version": 3
   },
   "file_extension": ".py",
   "mimetype": "text/x-python",
   "name": "python",
   "nbconvert_exporter": "python",
   "pygments_lexer": "ipython3",
   "version": "3.8.8"
  }
 },
 "nbformat": 4,
 "nbformat_minor": 2
}
